{
 "cells": [
  {
   "cell_type": "markdown",
   "metadata": {
    "colab_type": "text",
    "id": "bMwWWv_NLu0C"
   },
   "source": [
    "# Welcome to the Practice Exercise on Tensorflow Basics. \n",
    "<i> It is strongly recommended that you run the notebook on google colab.\n",
    "We will start with installing the newly launched tensorflow 2.0 and we will check the version post installation to verify the install is successful."
   ]
  },
  {
   "cell_type": "code",
   "execution_count": 1,
   "metadata": {
    "colab": {
     "base_uri": "https://localhost:8080/",
     "height": 1000
    },
    "colab_type": "code",
    "id": "OAUA0_uoLkCP",
    "outputId": "2bdb399f-2769-45c7-f1a0-bbb8fb470180"
   },
   "outputs": [
    {
     "name": "stdout",
     "output_type": "stream",
     "text": [
      "WARNING: Executing a script that is loading libcrypto in an unsafe way. This will fail in a future version of macOS. Set the LIBRESSL_REDIRECT_STUB_ABORT=1 in the environment to force this into an error.\n",
      "Collecting tensorflow==2.0.0\n",
      "\u001b[?25l  Downloading https://files.pythonhosted.org/packages/a3/4b/e5affee8a75517c3d43189a2a57d5134ad3b974e3a4a8d65f450e5f07e6a/tensorflow-2.0.0-cp27-cp27m-macosx_10_11_x86_64.whl (102.7MB)\n",
      "\u001b[K    100% |████████████████████████████████| 102.7MB 131kB/s eta 0:00:01\n",
      "\u001b[?25hCollecting google-pasta>=0.1.6 (from tensorflow==2.0.0)\n",
      "\u001b[?25l  Downloading https://files.pythonhosted.org/packages/59/22/38238cd9b83dd8a857abd7c907b8fe68ceff1611ab3ca5f0e80a5e025956/google_pasta-0.2.0-py2-none-any.whl (57kB)\n",
      "\u001b[K    100% |████████████████████████████████| 61kB 9.4MB/s eta 0:00:01\n",
      "\u001b[?25hRequirement already satisfied: protobuf>=3.6.1 in /Users/mauriciobarrera/Library/Python/2.7/lib/python/site-packages (from tensorflow==2.0.0) (3.11.3)\n",
      "Collecting termcolor>=1.1.0 (from tensorflow==2.0.0)\n",
      "  Using cached https://files.pythonhosted.org/packages/8a/48/a76be51647d0eb9f10e2a4511bf3ffb8cc1e6b14e9e4fab46173aa79f981/termcolor-1.1.0.tar.gz\n",
      "Collecting absl-py>=0.7.0 (from tensorflow==2.0.0)\n",
      "\u001b[?25l  Downloading https://files.pythonhosted.org/packages/1a/53/9243c600e047bd4c3df9e69cfabc1e8004a82cac2e0c484580a78a94ba2a/absl-py-0.9.0.tar.gz (104kB)\n",
      "\u001b[K    100% |████████████████████████████████| 112kB 13.4MB/s ta 0:00:01\n",
      "\u001b[?25hCollecting keras-applications>=1.0.8 (from tensorflow==2.0.0)\n",
      "\u001b[?25l  Downloading https://files.pythonhosted.org/packages/21/56/4bcec5a8d9503a87e58e814c4e32ac2b32c37c685672c30bc8c54c6e478a/Keras_Applications-1.0.8.tar.gz (289kB)\n",
      "\u001b[K    100% |████████████████████████████████| 296kB 8.8MB/s eta 0:00:01\n",
      "\u001b[?25hCollecting tensorflow-estimator<2.1.0,>=2.0.0 (from tensorflow==2.0.0)\n",
      "\u001b[?25l  Downloading https://files.pythonhosted.org/packages/fc/08/8b927337b7019c374719145d1dceba21a8bb909b93b1ad6f8fb7d22c1ca1/tensorflow_estimator-2.0.1-py2.py3-none-any.whl (449kB)\n",
      "\u001b[K    100% |████████████████████████████████| 450kB 6.0MB/s eta 0:00:01\n",
      "\u001b[?25hRequirement already satisfied: wheel in /System/Library/Frameworks/Python.framework/Versions/2.7/Extras/lib/python (from tensorflow==2.0.0) (0.33.1)\n",
      "Collecting numpy<2.0,>=1.16.0 (from tensorflow==2.0.0)\n",
      "  Using cached https://files.pythonhosted.org/packages/09/96/84cf406fe7d589f3dba9fc0f737e65985a3526c6d8c783f02d4b5a10825d/numpy-1.16.6-cp27-cp27m-macosx_10_9_x86_64.whl\n",
      "Collecting functools32>=3.2.3 (from tensorflow==2.0.0)\n",
      "Collecting gast==0.2.2 (from tensorflow==2.0.0)\n",
      "  Downloading https://files.pythonhosted.org/packages/4e/35/11749bf99b2d4e3cceb4d55ca22590b0d7c2c62b9de38ac4a4a7f4687421/gast-0.2.2.tar.gz\n",
      "Collecting tensorboard<2.1.0,>=2.0.0 (from tensorflow==2.0.0)\n",
      "\u001b[?25l  Downloading https://files.pythonhosted.org/packages/a7/3d/993131c622ae34f9401a81526853f2310a4834bd042420a7982fb5bc5fd0/tensorboard-2.0.2-py2-none-any.whl (3.8MB)\n",
      "\u001b[K    100% |████████████████████████████████| 3.8MB 2.9MB/s eta 0:00:01\n",
      "\u001b[?25hCollecting keras-preprocessing>=1.0.5 (from tensorflow==2.0.0)\n",
      "\u001b[?25l  Downloading https://files.pythonhosted.org/packages/79/4c/7c3275a01e12ef9368a892926ab932b33bb13d55794881e3573482b378a7/Keras_Preprocessing-1.1.2-py2.py3-none-any.whl (42kB)\n",
      "\u001b[K    100% |████████████████████████████████| 51kB 7.0MB/s eta 0:00:01\n",
      "\u001b[?25hCollecting wrapt>=1.11.1 (from tensorflow==2.0.0)\n",
      "  Downloading https://files.pythonhosted.org/packages/82/f7/e43cefbe88c5fd371f4cf0cf5eb3feccd07515af9fd6cf7dbf1d1793a797/wrapt-1.12.1.tar.gz\n",
      "Collecting backports.weakref>=1.0rc1; python_version < \"3.4\" (from tensorflow==2.0.0)\n",
      "  Using cached https://files.pythonhosted.org/packages/88/ec/f598b633c3d5ffe267aaada57d961c94fdfa183c5c3ebda2b6d151943db6/backports.weakref-1.0.post1-py2.py3-none-any.whl\n",
      "Collecting mock>=2.0.0 (from tensorflow==2.0.0)\n",
      "  Downloading https://files.pythonhosted.org/packages/05/d2/f94e68be6b17f46d2c353564da56e6fb89ef09faeeff3313a046cb810ca9/mock-3.0.5-py2.py3-none-any.whl\n",
      "Requirement already satisfied: six>=1.10.0 in /System/Library/Frameworks/Python.framework/Versions/2.7/Extras/lib/python (from tensorflow==2.0.0) (1.12.0)\n",
      "Collecting grpcio>=1.8.6 (from tensorflow==2.0.0)\n",
      "\u001b[?25l  Downloading https://files.pythonhosted.org/packages/a2/d2/3772038c736481bee9d53a822e1c51f02fe14bba3ac3ac545d21118a3380/grpcio-1.30.0-cp27-cp27m-macosx_10_9_x86_64.whl (2.8MB)\n",
      "\u001b[K    100% |████████████████████████████████| 2.8MB 3.6MB/s eta 0:00:01\n",
      "\u001b[?25hRequirement already satisfied: enum34>=1.1.6; python_version < \"3.4\" in /Library/Python/2.7/site-packages (from tensorflow==2.0.0) (1.1.6)\n",
      "Collecting opt-einsum>=2.3.2 (from tensorflow==2.0.0)\n",
      "\u001b[?25l  Downloading https://files.pythonhosted.org/packages/f6/d6/44792ec668bcda7d91913c75237314e688f70415ab2acd7172c845f0b24f/opt_einsum-2.3.2.tar.gz (59kB)\n",
      "\u001b[K    100% |████████████████████████████████| 61kB 9.3MB/s eta 0:00:01\n",
      "\u001b[?25hCollecting astor>=0.6.0 (from tensorflow==2.0.0)\n",
      "  Downloading https://files.pythonhosted.org/packages/c3/88/97eef84f48fa04fbd6750e62dcceafba6c63c81b7ac1420856c8dcc0a3f9/astor-0.8.1-py2.py3-none-any.whl\n",
      "Requirement already satisfied: setuptools in /System/Library/Frameworks/Python.framework/Versions/2.7/Extras/lib/python (from protobuf>=3.6.1->tensorflow==2.0.0) (41.0.1)\n",
      "Collecting h5py (from keras-applications>=1.0.8->tensorflow==2.0.0)\n",
      "\u001b[?25l  Downloading https://files.pythonhosted.org/packages/2c/47/e0d58be6f292684a4541d10b1da953542ff679f3ffc6096bee73634832b1/h5py-2.10.0-cp27-cp27m-macosx_10_6_intel.whl (2.9MB)\n",
      "\u001b[K    100% |████████████████████████████████| 2.9MB 3.1MB/s eta 0:00:01\n",
      "\u001b[?25hCollecting futures>=3.1.1; python_version < \"3\" (from tensorboard<2.1.0,>=2.0.0->tensorflow==2.0.0)\n",
      "  Using cached https://files.pythonhosted.org/packages/d8/a6/f46ae3f1da0cd4361c344888f59ec2f5785e69c872e175a748ef6071cdb5/futures-3.3.0-py2-none-any.whl\n",
      "Collecting google-auth<2,>=1.6.3 (from tensorboard<2.1.0,>=2.0.0->tensorflow==2.0.0)\n",
      "\u001b[?25l  Downloading https://files.pythonhosted.org/packages/b7/4b/ad22f901ef599ac6dcce285f87e8b48067f2b6ff2a5eb0f4ef08227d057f/google_auth-1.19.2-py2.py3-none-any.whl (91kB)\n",
      "\u001b[K    100% |████████████████████████████████| 92kB 11.3MB/s ta 0:00:01\n",
      "\u001b[?25hCollecting google-auth-oauthlib<0.5,>=0.4.1 (from tensorboard<2.1.0,>=2.0.0->tensorflow==2.0.0)\n",
      "  Downloading https://files.pythonhosted.org/packages/7b/b8/88def36e74bee9fce511c9519571f4e485e890093ab7442284f4ffaef60b/google_auth_oauthlib-0.4.1-py2.py3-none-any.whl\n",
      "Collecting markdown>=2.6.8 (from tensorboard<2.1.0,>=2.0.0->tensorflow==2.0.0)\n",
      "\u001b[?25l  Downloading https://files.pythonhosted.org/packages/c0/4e/fd492e91abdc2d2fcb70ef453064d980688762079397f779758e055f6575/Markdown-3.1.1-py2.py3-none-any.whl (87kB)\n",
      "\u001b[K    100% |████████████████████████████████| 92kB 11.5MB/s ta 0:00:01\n",
      "\u001b[?25hCollecting werkzeug>=0.11.15 (from tensorboard<2.1.0,>=2.0.0->tensorflow==2.0.0)\n",
      "  Using cached https://files.pythonhosted.org/packages/cc/94/5f7079a0e00bd6863ef8f1da638721e9da21e5bacee597595b318f71d62e/Werkzeug-1.0.1-py2.py3-none-any.whl\n",
      "Requirement already satisfied: requests<3,>=2.21.0 in /Users/mauriciobarrera/Library/Python/2.7/lib/python/site-packages (from tensorboard<2.1.0,>=2.0.0->tensorflow==2.0.0) (2.23.0)\n",
      "Collecting funcsigs>=1; python_version < \"3.3\" (from mock>=2.0.0->tensorflow==2.0.0)\n",
      "  Using cached https://files.pythonhosted.org/packages/69/cb/f5be453359271714c01b9bd06126eaf2e368f1fddfff30818754b5ac2328/funcsigs-1.0.2-py2.py3-none-any.whl\n",
      "Collecting pyasn1-modules>=0.2.1 (from google-auth<2,>=1.6.3->tensorboard<2.1.0,>=2.0.0->tensorflow==2.0.0)\n",
      "\u001b[?25l  Downloading https://files.pythonhosted.org/packages/95/de/214830a981892a3e286c3794f41ae67a4495df1108c3da8a9f62159b9a9d/pyasn1_modules-0.2.8-py2.py3-none-any.whl (155kB)\n",
      "\u001b[K    100% |████████████████████████████████| 163kB 11.0MB/s ta 0:00:01\n",
      "\u001b[?25hCollecting cachetools<5.0,>=2.0.0 (from google-auth<2,>=1.6.3->tensorboard<2.1.0,>=2.0.0->tensorflow==2.0.0)\n",
      "  Downloading https://files.pythonhosted.org/packages/2f/a6/30b0a0bef12283e83e58c1d6e7b5aabc7acfc4110df81a4471655d33e704/cachetools-3.1.1-py2.py3-none-any.whl\n",
      "Collecting rsa<4.1; python_version < \"3\" (from google-auth<2,>=1.6.3->tensorboard<2.1.0,>=2.0.0->tensorflow==2.0.0)\n",
      "  Downloading https://files.pythonhosted.org/packages/02/e5/38518af393f7c214357079ce67a317307936896e961e35450b70fad2a9cf/rsa-4.0-py2.py3-none-any.whl\n"
     ]
    },
    {
     "name": "stdout",
     "output_type": "stream",
     "text": [
      "Collecting requests-oauthlib>=0.7.0 (from google-auth-oauthlib<0.5,>=0.4.1->tensorboard<2.1.0,>=2.0.0->tensorflow==2.0.0)\n",
      "  Using cached https://files.pythonhosted.org/packages/a3/12/b92740d845ab62ea4edf04d2f4164d82532b5a0b03836d4d4e71c6f3d379/requests_oauthlib-1.3.0-py2.py3-none-any.whl\n",
      "Requirement already satisfied: urllib3!=1.25.0,!=1.25.1,<1.26,>=1.21.1 in /Users/mauriciobarrera/Library/Python/2.7/lib/python/site-packages (from requests<3,>=2.21.0->tensorboard<2.1.0,>=2.0.0->tensorflow==2.0.0) (1.25.8)\n",
      "Requirement already satisfied: idna<3,>=2.5 in /Library/Python/2.7/site-packages (from requests<3,>=2.21.0->tensorboard<2.1.0,>=2.0.0->tensorflow==2.0.0) (2.8)\n",
      "Requirement already satisfied: certifi>=2017.4.17 in /Users/mauriciobarrera/Library/Python/2.7/lib/python/site-packages (from requests<3,>=2.21.0->tensorboard<2.1.0,>=2.0.0->tensorflow==2.0.0) (2019.11.28)\n",
      "Requirement already satisfied: chardet<4,>=3.0.2 in /Users/mauriciobarrera/Library/Python/2.7/lib/python/site-packages (from requests<3,>=2.21.0->tensorboard<2.1.0,>=2.0.0->tensorflow==2.0.0) (3.0.4)\n",
      "Collecting pyasn1<0.5.0,>=0.4.6 (from pyasn1-modules>=0.2.1->google-auth<2,>=1.6.3->tensorboard<2.1.0,>=2.0.0->tensorflow==2.0.0)\n",
      "  Using cached https://files.pythonhosted.org/packages/62/1e/a94a8d635fa3ce4cfc7f506003548d0a2447ae76fd5ca53932970fe3053f/pyasn1-0.4.8-py2.py3-none-any.whl\n",
      "Collecting oauthlib>=3.0.0 (from requests-oauthlib>=0.7.0->google-auth-oauthlib<0.5,>=0.4.1->tensorboard<2.1.0,>=2.0.0->tensorflow==2.0.0)\n",
      "  Using cached https://files.pythonhosted.org/packages/05/57/ce2e7a8fa7c0afb54a0581b14a65b56e62b5759dbc98e80627142b8a3704/oauthlib-3.1.0-py2.py3-none-any.whl\n",
      "Building wheels for collected packages: termcolor, absl-py, keras-applications, gast, wrapt, opt-einsum\n",
      "  Running setup.py bdist_wheel for termcolor ... \u001b[?25ldone\n",
      "\u001b[?25h  Stored in directory: /Users/mauriciobarrera/Library/Caches/pip/wheels/7c/06/54/bc84598ba1daf8f970247f550b175aaaee85f68b4b0c5ab2c6\n",
      "  Running setup.py bdist_wheel for absl-py ... \u001b[?25ldone\n",
      "\u001b[?25h  Stored in directory: /Users/mauriciobarrera/Library/Caches/pip/wheels/8e/28/49/fad4e7f0b9a1227708cbbee4487ac8558a7334849cb81c813d\n",
      "  Running setup.py bdist_wheel for keras-applications ... \u001b[?25ldone\n",
      "\u001b[?25h  Stored in directory: /Users/mauriciobarrera/Library/Caches/pip/wheels/dd/f2/5d/2689b5547f32c4e258c3b7ccbe7f1d0f2afbb84fb01e830792\n",
      "  Running setup.py bdist_wheel for gast ... \u001b[?25ldone\n",
      "\u001b[?25h  Stored in directory: /Users/mauriciobarrera/Library/Caches/pip/wheels/5c/2e/7e/a1d4d4fcebe6c381f378ce7743a3ced3699feb89bcfbdadadd\n",
      "  Running setup.py bdist_wheel for wrapt ... \u001b[?25ldone\n",
      "\u001b[?25h  Stored in directory: /Users/mauriciobarrera/Library/Caches/pip/wheels/b1/c2/ed/d62208260edbd3fa7156545c00ef966f45f2063d0a84f8208a\n",
      "  Running setup.py bdist_wheel for opt-einsum ... \u001b[?25ldone\n",
      "\u001b[?25h  Stored in directory: /Users/mauriciobarrera/Library/Caches/pip/wheels/51/3e/a3/b351fae0cbf15373c2136a54a70f43fea5fe91d8168a5faaa4\n",
      "Successfully built termcolor absl-py keras-applications gast wrapt opt-einsum\n",
      "\u001b[31mmatplotlib 1.3.1 requires nose, which is not installed.\u001b[0m\n",
      "\u001b[31mmatplotlib 1.3.1 requires tornado, which is not installed.\u001b[0m\n",
      "Installing collected packages: google-pasta, termcolor, absl-py, numpy, h5py, keras-applications, tensorflow-estimator, functools32, gast, futures, pyasn1, pyasn1-modules, cachetools, rsa, google-auth, grpcio, oauthlib, requests-oauthlib, google-auth-oauthlib, markdown, werkzeug, tensorboard, keras-preprocessing, wrapt, backports.weakref, funcsigs, mock, opt-einsum, astor, tensorflow\n",
      "\u001b[31mCould not install packages due to an EnvironmentError: [Errno 13] Permission denied: '/Library/Python/2.7/site-packages/google_pasta-0.2.0.dist-info'\n",
      "Consider using the `--user` option or check the permissions.\n",
      "\u001b[0m\n"
     ]
    }
   ],
   "source": [
    "!pip install tensorflow==2.0.0"
   ]
  },
  {
   "cell_type": "markdown",
   "metadata": {
    "colab_type": "text",
    "id": "qhX1gZEhLip-"
   },
   "source": [
    "#### Let us verify the version we are using. Run the cell below to check the version."
   ]
  },
  {
   "cell_type": "code",
   "execution_count": 2,
   "metadata": {
    "colab": {
     "base_uri": "https://localhost:8080/",
     "height": 34
    },
    "colab_type": "code",
    "id": "W15eefa2Q5hA",
    "outputId": "1053ba3d-d738-438d-e4e4-ff65ecb5296a"
   },
   "outputs": [
    {
     "name": "stdout",
     "output_type": "stream",
     "text": [
      "2.2.0\n"
     ]
    }
   ],
   "source": [
    "import tensorflow as tf\n",
    "print(tf.__version__)"
   ]
  },
  {
   "cell_type": "markdown",
   "metadata": {
    "colab_type": "text",
    "id": "U71NYDeFkUhq"
   },
   "source": [
    "# TensorFlow Fundamentals\n",
    "As per the TensorFlow website, TensorFlow is \"an end-to-end open source platform for machine learning. It has a comprehensive, flexible ecosystem of tools, libraries and community resources that lets researchers push the state-of-the-art in ML and developers easily build and deploy ML powered applications.\"\n",
    "\n",
    "Learning to work with tensorflow comes handy in developing ML and DL models and in this notebooks we will quickly have a look at the fundamentals/basics of tensorflow. Note that a very detailed understanding of TensorFlow are not required for this course and we will cover some very basic concepts here. You can go ahead and explore this [site](https://www.tensorflow.org/) if you are further interested.\n",
    "\n",
    "<i>Note that the notebook is for practice and expects some amount of research from the learners.\n",
    "<br>You are advised to try the code once yourself and then refer to the complete notebook."
   ]
  },
  {
   "cell_type": "markdown",
   "metadata": {
    "colab_type": "text",
    "id": "5bmtTepn6SvG"
   },
   "source": [
    "### Basic operations with TensorFlow"
   ]
  },
  {
   "cell_type": "code",
   "execution_count": 3,
   "metadata": {
    "colab": {
     "base_uri": "https://localhost:8080/",
     "height": 70
    },
    "colab_type": "code",
    "id": "pCZGHQ_XmHuZ",
    "outputId": "6982ae70-ce97-4849-e34f-94fd164adefc"
   },
   "outputs": [
    {
     "name": "stdout",
     "output_type": "stream",
     "text": [
      "(4+2j) (6+7j) (10+9j) tf.Tensor((19+180j), shape=(), dtype=complex128)\n",
      "(-2-5j)\n",
      "(10+40j)\n"
     ]
    }
   ],
   "source": [
    "a = 4 + 2j #complex number\n",
    "b = 6 + 7j\n",
    "\n",
    "c = a + b\n",
    "d = tf.square(c)\n",
    "print(a,b,c,d)\n",
    "\n",
    "\n",
    "\n",
    "print(a-b)\n",
    "print(a*b)"
   ]
  },
  {
   "cell_type": "markdown",
   "metadata": {
    "colab_type": "text",
    "id": "l2e8-qrcl2kH"
   },
   "source": [
    "### Tensors\n",
    "As we Know, tensors are array of numbers arranged in space. We can call a vector(1-D array) as a 1st order tensor and matrix(2-D Array) as a 2nd order tensor and so on. Below, find out how to create a [constant](https://www.tensorflow.org/api_docs/python/tf/constant) tensor:\n",
    "\n",
    "\n",
    "\n",
    "\n"
   ]
  },
  {
   "cell_type": "code",
   "execution_count": 4,
   "metadata": {
    "colab": {
     "base_uri": "https://localhost:8080/",
     "height": 70
    },
    "colab_type": "code",
    "id": "pGB6GDsfRFJs",
    "outputId": "8a2b75a6-e24f-43dd-ea99-88d646e047b2"
   },
   "outputs": [
    {
     "name": "stdout",
     "output_type": "stream",
     "text": [
      "tf.Tensor(\n",
      "[[1.4 2.  2. ]\n",
      " [8.  2.  5. ]], shape=(2, 3), dtype=float32)\n"
     ]
    }
   ],
   "source": [
    "c = tf.constant([[1.4, 2.0, 2], [8, 2, 5]])\n",
    "print(c)"
   ]
  },
  {
   "cell_type": "markdown",
   "metadata": {
    "colab_type": "text",
    "id": "RX2SB_2O1jx7"
   },
   "source": [
    "You can get its value as a Numpy array by calling `.numpy()`:"
   ]
  },
  {
   "cell_type": "code",
   "execution_count": 5,
   "metadata": {
    "colab": {
     "base_uri": "https://localhost:8080/",
     "height": 87
    },
    "colab_type": "code",
    "id": "EwGyHOoq1oWn",
    "outputId": "37cee095-3717-4719-f75c-444a58a39d05"
   },
   "outputs": [
    {
     "name": "stdout",
     "output_type": "stream",
     "text": [
      "[[1 2 2]\n",
      " [8 2 5]]\n"
     ]
    },
    {
     "data": {
      "text/plain": [
       "array([[1.4, 2. , 2. ],\n",
       "       [8. , 2. , 5. ]], dtype=float32)"
      ]
     },
     "execution_count": 5,
     "metadata": {},
     "output_type": "execute_result"
    }
   ],
   "source": [
    "import numpy as np\n",
    "y = np.array([[1, 2, 2], [8, 2, 5]])\n",
    "print(y)\n",
    "# We can also convert a tensor into a numpy array by using .numpy()\n",
    "c.numpy()"
   ]
  },
  {
   "cell_type": "markdown",
   "metadata": {
    "colab_type": "text",
    "id": "PNkno66r1xvg"
   },
   "source": [
    "We can get the dimensions and the datatype of the a tf.tensor as demonstrated below - "
   ]
  },
  {
   "cell_type": "code",
   "execution_count": 6,
   "metadata": {
    "colab": {
     "base_uri": "https://localhost:8080/",
     "height": 52
    },
    "colab_type": "code",
    "id": "tSxtblSP13v2",
    "outputId": "519893e2-0c8e-4246-8289-7e583fc52be4"
   },
   "outputs": [
    {
     "name": "stdout",
     "output_type": "stream",
     "text": [
      "Tensor Data Type <dtype: 'float32'>\n",
      "Tensor Shape (2, 3)\n"
     ]
    }
   ],
   "source": [
    "print('Tensor Data Type', c.dtype)\n",
    "print('Tensor Shape', c.shape)\n",
    "# You can notice the similarity with numpy \n",
    "# You can also call the different default tensors as you would do for numpy"
   ]
  },
  {
   "cell_type": "markdown",
   "metadata": {
    "colab_type": "text",
    "id": "Oogzv3--2EF2"
   },
   "source": [
    "Find a detailed reference to creating different tensors:\n",
    "\n",
    "\n",
    "1.   [Converting python/numpy objects to tensors](https://www.tensorflow.org/api_docs/python/tf/convert_to_tensor)\n",
    "2.   [Generating random values from a normal distribution](https://www.tensorflow.org/api_docs/python/tf/random/normal)\n",
    "3.   [Converting tensor values to strings ](https://www.tensorflow.org/api_docs/python/tf/strings/as_string)\n",
    "4.   [Createing a tensor of ones](https://www.tensorflow.org/api_docs/python/tf/ones)\n",
    "5.   [Creating a tensor of zeroes](https://www.tensorflow.org/api_docs/python/tf/zeros)\n",
    "6.   [TensorFlow for maths](https://www.tensorflow.org/api_docs/python/tf/math)\n",
    "\n",
    "\n",
    "\n"
   ]
  },
  {
   "cell_type": "markdown",
   "metadata": {
    "colab_type": "text",
    "id": "I95066exmbDU"
   },
   "source": [
    "### [Variables](https://www.tensorflow.org/guide/variable) with tf.Variable()"
   ]
  },
  {
   "cell_type": "markdown",
   "metadata": {
    "colab_type": "text",
    "id": "cMflzgPM3Mim"
   },
   "source": [
    "A tensorflow Variable is a tensor that is used to store value that can later be updated. You need to initialize a variable with some value at the time of creation."
   ]
  },
  {
   "cell_type": "code",
   "execution_count": 7,
   "metadata": {
    "colab": {
     "base_uri": "https://localhost:8080/",
     "height": 158
    },
    "colab_type": "code",
    "id": "8FvENXmBmcyT",
    "outputId": "8a864e82-2c62-4d13-e207-6fa9bdef0345"
   },
   "outputs": [
    {
     "name": "stdout",
     "output_type": "stream",
     "text": [
      "<tf.Variable 'Variable:0' shape=(3, 3) dtype=float32, numpy=\n",
      "array([[1., 1., 1.],\n",
      "       [1., 1., 1.],\n",
      "       [1., 1., 1.]], dtype=float32)>\n",
      "<tf.Variable 'Variable:0' shape=(3, 3) dtype=float32, numpy=\n",
      "array([[0., 0., 0.],\n",
      "       [0., 0., 0.],\n",
      "       [0., 0., 0.]], dtype=float32)>\n"
     ]
    }
   ],
   "source": [
    "random_variable = tf.ones(shape=(3,3))\n",
    "#random variable\n",
    "tf_variable = tf.Variable(random_variable)\n",
    "print(tf_variable)\n",
    "\n",
    "#you can also update the values of your variable.\n",
    "tf_variable.assign(tf.zeros(shape = (3,3)))\n",
    "print(tf_variable)"
   ]
  },
  {
   "cell_type": "markdown",
   "metadata": {
    "colab_type": "text",
    "id": "YRFwVySi3biu"
   },
   "source": [
    "You can find more on updating a variable [here](https://www.tensorflow.org/api_docs/python/tf/Variable#assign_add)."
   ]
  },
  {
   "cell_type": "markdown",
   "metadata": {
    "colab_type": "text",
    "id": "5Feq3qWoBVQW"
   },
   "source": [
    "Now we learn about the <b>[`GradientTape`](https://www.tensorflow.org/api_docs/python/tf/GradientTape)</b> which is used to record operations for automatic differentiation."
   ]
  },
  {
   "cell_type": "code",
   "execution_count": 73,
   "metadata": {
    "colab": {
     "base_uri": "https://localhost:8080/",
     "height": 52
    },
    "colab_type": "code",
    "id": "FkEAY45IBjPv",
    "outputId": "b3797a82-31fe-4633-856b-e19ff24cdf3d"
   },
   "outputs": [
    {
     "name": "stdout",
     "output_type": "stream",
     "text": [
      "tf.Tensor(18.0, shape=(), dtype=float32)\n",
      "tf.Tensor(8.0, shape=(), dtype=float32)\n"
     ]
    }
   ],
   "source": [
    "# computing derivative for the function 3x^2 at x = 3\n",
    "\n",
    "x = tf.constant(3.0) #gradient at\n",
    "with tf.GradientTape() as g:\n",
    "  g.watch(x) #record the operations\n",
    "  y = 3*x * x\n",
    "dy_dx = g.gradient(y, x) \n",
    "print(dy_dx)\n",
    "\n",
    "\n",
    "# you can also use nested GradientTape() for the second derivative\n",
    "#computing second derivative for the function 4x^2 at x = 4.0\n",
    "\n",
    "x = tf.constant(4.0)\n",
    "with tf.GradientTape() as gt:\n",
    "  gt.watch(x)\n",
    "  with tf.GradientTape() as g:\n",
    "    g.watch(x)  \n",
    "    y = 4*x*x\n",
    "  dy_dx = g.gradient(y, x)\n",
    "d2y_dx2 = gt.gradient(dy_dx,x)\n",
    "print(d2y_dx2)\n",
    "\n",
    "\n",
    "\n"
   ]
  },
  {
   "cell_type": "markdown",
   "metadata": {
    "colab_type": "text",
    "id": "MhJw1h9jQ9Sj"
   },
   "source": [
    "## Practice Questions"
   ]
  },
  {
   "cell_type": "markdown",
   "metadata": {
    "colab_type": "text",
    "id": "Qz_D1Q5uRBYI"
   },
   "source": [
    "#### 1. Create a constant tensor array 'x' like [2,3,4] and find element wise e^x.  Refer to the website [here](https://www.tensorflow.org/api_docs/python/tf/math/exp).\n",
    "\n"
   ]
  },
  {
   "cell_type": "code",
   "execution_count": 13,
   "metadata": {
    "colab": {
     "base_uri": "https://localhost:8080/",
     "height": 34
    },
    "colab_type": "code",
    "id": "cAnQWKlOSIm5",
    "outputId": "add7308d-949f-4e74-e41f-2932217b522f"
   },
   "outputs": [
    {
     "name": "stdout",
     "output_type": "stream",
     "text": [
      "tf.Tensor([ 7.389056 20.085537 54.59815 ], shape=(3,), dtype=float32)\n"
     ]
    }
   ],
   "source": [
    "#your code here\n",
    "c = tf.constant([2.0,3.0,4.0])\n",
    "print(tf.math.exp(c))"
   ]
  },
  {
   "cell_type": "markdown",
   "metadata": {
    "colab_type": "text",
    "id": "_vjzx7lARB73"
   },
   "source": [
    "#### 2. Declare a variable with a 3*2 shaped floating elements array with elements picked from a random normal distributions.   "
   ]
  },
  {
   "cell_type": "code",
   "execution_count": 2,
   "metadata": {
    "colab": {
     "base_uri": "https://localhost:8080/",
     "height": 87
    },
    "colab_type": "code",
    "id": "1tIf7IDWQ_jv",
    "outputId": "6ac0917a-0b6b-4ab6-dd64-d0a162e07175"
   },
   "outputs": [],
   "source": [
    "#your code here\n"
   ]
  },
  {
   "cell_type": "markdown",
   "metadata": {
    "colab_type": "text",
    "id": "COzXVKw4Tzus"
   },
   "source": [
    "#### 3. Subtract 1 from every element of the above matrix.\n"
   ]
  },
  {
   "cell_type": "code",
   "execution_count": 3,
   "metadata": {
    "colab": {
     "base_uri": "https://localhost:8080/",
     "height": 87
    },
    "colab_type": "code",
    "id": "ikePYswBTtZR",
    "outputId": "8dc4476c-55c1-450f-e68f-15ce48897cd3"
   },
   "outputs": [],
   "source": [
    "#your code here\n"
   ]
  },
  {
   "cell_type": "markdown",
   "metadata": {
    "colab_type": "text",
    "id": "1a7byi1JVtvX"
   },
   "source": [
    "#### 4. Calculate the third derivative of the function 4x^3 + x^2 + 1 at x = 1"
   ]
  },
  {
   "cell_type": "code",
   "execution_count": 4,
   "metadata": {
    "colab": {
     "base_uri": "https://localhost:8080/",
     "height": 34
    },
    "colab_type": "code",
    "id": "avo6eCafUxtR",
    "outputId": "fa357d0b-d952-433d-eb7b-832ab0b39a54"
   },
   "outputs": [],
   "source": [
    "#your code here\n"
   ]
  },
  {
   "cell_type": "markdown",
   "metadata": {
    "colab_type": "text",
    "id": "oxZZQyeJaxG7"
   },
   "source": [
    "#### 5. Calculate dot product of matrices [[1,2,3],[4,5,6],[7,8,9]] and [[1],[2],[3]] using tensorflow functions. Also, find the element wise multiplication of the two."
   ]
  },
  {
   "cell_type": "code",
   "execution_count": 5,
   "metadata": {
    "colab": {
     "base_uri": "https://localhost:8080/",
     "height": 87
    },
    "colab_type": "code",
    "id": "72HI2FnyXeuR",
    "outputId": "b0ed3a1d-3208-49bf-ab34-fbd9283ab480"
   },
   "outputs": [],
   "source": [
    "#your code here for dot product\n",
    "\n"
   ]
  },
  {
   "cell_type": "code",
   "execution_count": 6,
   "metadata": {
    "colab": {
     "base_uri": "https://localhost:8080/",
     "height": 87
    },
    "colab_type": "code",
    "id": "1XMUT6IhbgOC",
    "outputId": "9f3f2181-b074-45c7-c99f-1afff602dc7d"
   },
   "outputs": [],
   "source": [
    "# your code here for element wise product\n"
   ]
  },
  {
   "cell_type": "markdown",
   "metadata": {
    "colab_type": "text",
    "id": "wvxui4QDcXan"
   },
   "source": [
    "#### <i>Happy Learning!</i>"
   ]
  },
  {
   "cell_type": "code",
   "execution_count": 0,
   "metadata": {
    "colab": {},
    "colab_type": "code",
    "id": "gzjbsLarb16Z"
   },
   "outputs": [],
   "source": []
  }
 ],
 "metadata": {
  "colab": {
   "collapsed_sections": [],
   "name": "Tensorflow Practice Exercise 1 - Intro to NN",
   "provenance": []
  },
  "hide_input": false,
  "kernelspec": {
   "display_name": "Python 3",
   "language": "python",
   "name": "python3"
  },
  "language_info": {
   "codemirror_mode": {
    "name": "ipython",
    "version": 3
   },
   "file_extension": ".py",
   "mimetype": "text/x-python",
   "name": "python",
   "nbconvert_exporter": "python",
   "pygments_lexer": "ipython3",
   "version": "3.8.3"
  }
 },
 "nbformat": 4,
 "nbformat_minor": 1
}
