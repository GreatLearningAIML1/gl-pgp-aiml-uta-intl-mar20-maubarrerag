{
 "cells": [
  {
   "cell_type": "markdown",
   "metadata": {},
   "source": [
    "# NumPy\n",
    "\n",
    "numpy is python's package for doing math that is more advanced than +-*/\n",
    "\n",
    "This includes special functions like cosine, exponential, sqrt, ...\n",
    "\n",
    "On top of this we can use numpy to generate samples from many types of random variables\n",
    "\n",
    "numpy also has a powerful data type to define vectors, matrices, and tensors\n",
    "\n",
    "With these data types numpy also allows us to do linear algebra - matrix multiplication and matrix-vector solutions"
   ]
  },
  {
   "cell_type": "code",
   "execution_count": 1,
   "metadata": {},
   "outputs": [],
   "source": [
    "# the first step of using numpy is to tell python to use it\n",
    "import numpy as np"
   ]
  },
  {
   "cell_type": "code",
   "execution_count": 2,
   "metadata": {},
   "outputs": [
    {
     "name": "stdout",
     "output_type": "stream",
     "text": [
      "-1.0\n",
      "1.1\n",
      "5.2\n"
     ]
    }
   ],
   "source": [
    "print(np.cos(np.pi))\n",
    "print(np.sqrt(1.21))\n",
    "print(np.log(np.exp(5.2)))"
   ]
  },
  {
   "cell_type": "code",
   "execution_count": 3,
   "metadata": {},
   "outputs": [
    {
     "name": "stdout",
     "output_type": "stream",
     "text": [
      "[1 2 3]\n",
      "\n",
      "[[1 2 1]\n",
      " [4 5 9]\n",
      " [1 8 9]]\n",
      "\n",
      "[[1 4 1]\n",
      " [2 5 8]\n",
      " [1 9 9]]\n"
     ]
    }
   ],
   "source": [
    "# we can create numpy arrays by converting lists\n",
    "# this is a vector\n",
    "vec = np.array([1,2,3])\n",
    "print(vec)\n",
    "# we can create matrices by converting lists of lists\n",
    "mat = np.array([[1,2,1],[4,5,9],[1,8,9]])\n",
    "print('')\n",
    "print(mat)\n",
    "print('')\n",
    "print(mat.T)"
   ]
  },
  {
   "cell_type": "code",
   "execution_count": 4,
   "metadata": {},
   "outputs": [
    {
     "name": "stdout",
     "output_type": "stream",
     "text": [
      "[ 0  1  2  3  4  5  6  7  8  9 10 11 12 13 14]\n",
      "\n",
      "[ 3  9 15]\n"
     ]
    }
   ],
   "source": [
    "# there are lots of other ways to create numpy arrays\n",
    "vec2 = np.arange(0,15)\n",
    "print(vec2)\n",
    "print('')\n",
    "vec3 = np.arange(3,21,6)\n",
    "print(vec3)\n"
   ]
  },
  {
   "cell_type": "code",
   "execution_count": 5,
   "metadata": {},
   "outputs": [
    {
     "name": "stdout",
     "output_type": "stream",
     "text": [
      "[0.         0.55555556 1.11111111 1.66666667 2.22222222 2.77777778\n",
      " 3.33333333 3.88888889 4.44444444 5.        ]\n",
      "\n",
      "[[0.         0.55555556]\n",
      " [1.11111111 1.66666667]\n",
      " [2.22222222 2.77777778]\n",
      " [3.33333333 3.88888889]\n",
      " [4.44444444 5.        ]]\n",
      "[[0.         0.55555556]\n",
      " [1.11111111 1.66666667]\n",
      " [2.22222222 2.77777778]\n",
      " [3.33333333 3.88888889]\n",
      " [4.44444444 5.        ]]\n",
      "[0.         0.55555556 1.11111111 1.66666667 2.22222222 2.77777778\n",
      " 3.33333333 3.88888889 4.44444444 5.        ]\n"
     ]
    }
   ],
   "source": [
    "\n",
    "vec4 = np.linspace(0,5,10)\n",
    "print(vec4)\n",
    "print('')\n",
    "print(vec4.reshape(5,2))\n",
    "vec4_reshaped = vec4.reshape(5,2)\n",
    "print(vec4_reshaped)\n",
    "print(vec4)"
   ]
  },
  {
   "cell_type": "code",
   "execution_count": 6,
   "metadata": {},
   "outputs": [
    {
     "name": "stdout",
     "output_type": "stream",
     "text": [
      "[[0. 0. 0.]\n",
      " [0. 0. 0.]\n",
      " [0. 0. 0.]\n",
      " [0. 0. 0.]\n",
      " [0. 0. 0.]]\n",
      "\n",
      "[[1. 1. 1. 1. 1.]\n",
      " [1. 1. 1. 1. 1.]\n",
      " [1. 1. 1. 1. 1.]]\n",
      "\n",
      "[[1. 0. 0. 0. 0.]\n",
      " [0. 1. 0. 0. 0.]\n",
      " [0. 0. 1. 0. 0.]\n",
      " [0. 0. 0. 1. 0.]\n",
      " [0. 0. 0. 0. 1.]]\n"
     ]
    }
   ],
   "source": [
    "mat2 = np.zeros([5,3])\n",
    "print(mat2)\n",
    "mat3 = np.ones((3,5))\n",
    "print('')\n",
    "print(mat3)\n",
    "mat4 = np.eye(5)\n",
    "print('')\n",
    "print(mat4)"
   ]
  },
  {
   "cell_type": "code",
   "execution_count": 7,
   "metadata": {},
   "outputs": [
    {
     "name": "stdout",
     "output_type": "stream",
     "text": [
      "[1 2 3 4 5]\n",
      "[3 4 5 6 7]\n",
      "[ 4  6  8 10 12]\n",
      "[ 3  8 15 24 35]\n",
      "[1.         0.5        0.33333333 0.25       0.2       ]\n",
      "[1.73205081 2.         2.23606798 2.44948974 2.64575131]\n"
     ]
    }
   ],
   "source": [
    "# we can +-*/ arrays together if they're the right size\n",
    "vec5 = np.arange(1,6)\n",
    "vec6 = np.arange(3,8)\n",
    "print(vec5)\n",
    "print(vec6)\n",
    "print(vec5+vec6)\n",
    "print(vec5*vec6)\n",
    "print(1/vec5)\n",
    "print(np.sqrt(vec6))"
   ]
  },
  {
   "cell_type": "code",
   "execution_count": 8,
   "metadata": {},
   "outputs": [
    {
     "name": "stdout",
     "output_type": "stream",
     "text": [
      "[[1 2 1]\n",
      " [4 5 9]\n",
      " [1 8 9]]\n",
      "\n",
      "[1 2 3]\n",
      "\n",
      "[ 8 41 44]\n"
     ]
    }
   ],
   "source": [
    "# we can do matrix multiplication\n",
    "print(mat)\n",
    "print('')\n",
    "print(vec)\n",
    "print()\n",
    "product = np.matmul(mat,vec)\n",
    "print(product)"
   ]
  },
  {
   "cell_type": "code",
   "execution_count": 9,
   "metadata": {},
   "outputs": [
    {
     "name": "stdout",
     "output_type": "stream",
     "text": [
      "[1. 2. 3.]\n",
      "\n",
      "[[ 0.5         0.18518519 -0.24074074]\n",
      " [ 0.5        -0.14814815  0.09259259]\n",
      " [-0.5         0.11111111  0.05555556]]\n"
     ]
    }
   ],
   "source": [
    "print(np.linalg.solve(mat,product))\n",
    "print('')\n",
    "print(np.linalg.inv(mat))"
   ]
  },
  {
   "cell_type": "code",
   "execution_count": 10,
   "metadata": {},
   "outputs": [
    {
     "name": "stdout",
     "output_type": "stream",
     "text": [
      "['blue' 'red' 'orange' 'purple' 'purple' 'orange' 'Red' '6']\n",
      "['6' 'Red' 'blue' 'orange' 'purple' 'red']\n"
     ]
    }
   ],
   "source": [
    "# we can find the unique values in an array\n",
    "vec7 = np.array(['blue','red','orange','purple','purple','orange','Red',6])\n",
    "print(vec7)\n",
    "print(np.unique(vec7))"
   ]
  },
  {
   "cell_type": "code",
   "execution_count": 11,
   "metadata": {},
   "outputs": [
    {
     "name": "stdout",
     "output_type": "stream",
     "text": [
      "[[0.80339305 0.3443665  0.11965859 0.33054602 0.82775485]\n",
      " [0.80834343 0.91693695 0.60062788 0.82067113 0.74608966]\n",
      " [0.2556618  0.8373035  0.30890033 0.59713354 0.42069145]\n",
      " [0.86890498 0.28781749 0.49102024 0.38748334 0.40055826]\n",
      " [0.62741964 0.001983   0.75107944 0.26270882 0.30729093]]\n",
      "\n",
      "[[-1.18796881  1.60797976  0.19256138 -1.57018676  0.50343537]\n",
      " [-1.0667398   0.56265413 -0.31300196 -0.57157302  0.1766835 ]\n",
      " [-0.32788203  1.0849781  -0.39229512  0.69973449 -1.4552792 ]\n",
      " [ 0.76477971 -0.80579564 -0.0286173   0.38161299  0.82247905]\n",
      " [-1.55943906  0.23298095  1.34493272 -0.1844541  -1.30630419]\n",
      " [ 0.95266473 -0.79504166  0.04220883 -1.3930498  -1.40163327]\n",
      " [-1.51565257  1.29587529 -1.18711163 -1.51492776  2.24416861]\n",
      " [ 0.04427762  0.44446508  0.14172478  1.3246338   0.42332305]\n",
      " [-1.60205273 -0.13787747  0.78387438  0.82458148  0.40024539]\n",
      " [-0.08692325 -1.57381375 -0.90913917  0.91433228 -0.61311508]]\n"
     ]
    }
   ],
   "source": [
    "# we can also use numpy to generate samples of a random variable\n",
    "rand_mat = np.random.rand(5,5) # uniform random variable\n",
    "print(rand_mat)\n",
    "rand_mat2 = np.random.randn(10,5) # standard normal random variable\n",
    "print('')\n",
    "print(rand_mat2)"
   ]
  },
  {
   "cell_type": "code",
   "execution_count": 12,
   "metadata": {},
   "outputs": [
    {
     "name": "stdout",
     "output_type": "stream",
     "text": [
      "0.5249737926715892\n",
      "0.9911873268266991\n"
     ]
    }
   ],
   "source": [
    "# we can also use numpy for statistical tools on arrays\n",
    "print(np.mean(rand_mat))\n",
    "print(np.std(rand_mat2))"
   ]
  },
  {
   "cell_type": "code",
   "execution_count": 13,
   "metadata": {},
   "outputs": [
    {
     "name": "stdout",
     "output_type": "stream",
     "text": [
      "0.001982995973899393\n",
      "2.244168611377814\n"
     ]
    }
   ],
   "source": [
    "print(np.min(rand_mat))\n",
    "print(np.max(rand_mat2))"
   ]
  },
  {
   "cell_type": "code",
   "execution_count": 14,
   "metadata": {},
   "outputs": [],
   "source": [
    "# break here for next video!"
   ]
  },
  {
   "cell_type": "code",
   "execution_count": 15,
   "metadata": {},
   "outputs": [
    {
     "name": "stdout",
     "output_type": "stream",
     "text": [
      "[ 0.69088393 -0.91074289 -0.64824126  0.1844039   1.83685178  0.85108208\n",
      "  1.67779615  0.70758691  0.22568017 -0.99090019  1.09506742  1.19980111\n",
      "  0.11893625 -0.98796452  0.02521824 -0.88656889 -1.44507517 -1.64822676\n",
      "  0.48444318]\n",
      "1.6777961531179222\n"
     ]
    }
   ],
   "source": [
    "# how do we access entries in a numpy vector\n",
    "rand_vec = np.random.randn(19)\n",
    "print(rand_vec)\n",
    "print(rand_vec[6])"
   ]
  },
  {
   "cell_type": "code",
   "execution_count": 21,
   "metadata": {},
   "outputs": [
    {
     "name": "stdout",
     "output_type": "stream",
     "text": [
      "[-1.64822676]\n"
     ]
    }
   ],
   "source": [
    "# we can access multiple entries at once using :\n",
    "print(rand_vec[-2:-1])"
   ]
  },
  {
   "cell_type": "code",
   "execution_count": 22,
   "metadata": {},
   "outputs": [
    {
     "name": "stdout",
     "output_type": "stream",
     "text": [
      "[ 0  3  6  9 12]\n",
      "[ 0.69088393  0.1844039   1.67779615 -0.99090019  0.11893625]\n"
     ]
    }
   ],
   "source": [
    "# we can also access multiple non-consecutive entries using np.arange\n",
    "print(np.arange(0,15,3))\n",
    "print(rand_vec[np.arange(0,15,3)])"
   ]
  },
  {
   "cell_type": "code",
   "execution_count": 23,
   "metadata": {},
   "outputs": [
    {
     "name": "stdout",
     "output_type": "stream",
     "text": [
      "[[0.80339305 0.3443665  0.11965859 0.33054602 0.82775485]\n",
      " [0.80834343 0.91693695 0.60062788 0.82067113 0.74608966]\n",
      " [0.2556618  0.8373035  0.30890033 0.59713354 0.42069145]\n",
      " [0.86890498 0.28781749 0.49102024 0.38748334 0.40055826]\n",
      " [0.62741964 0.001983   0.75107944 0.26270882 0.30729093]]\n",
      "0.6006278768514439\n",
      "0.6006278768514439\n"
     ]
    }
   ],
   "source": [
    "# what about matrices\n",
    "print(rand_mat)\n",
    "print(rand_mat[1][2])\n",
    "print(rand_mat[1,2])\n"
   ]
  },
  {
   "cell_type": "code",
   "execution_count": 24,
   "metadata": {},
   "outputs": [
    {
     "name": "stdout",
     "output_type": "stream",
     "text": [
      "[[0.3443665  0.11965859]\n",
      " [0.91693695 0.60062788]]\n"
     ]
    }
   ],
   "source": [
    "print(rand_mat[0:2,1:3])"
   ]
  },
  {
   "cell_type": "code",
   "execution_count": 25,
   "metadata": {},
   "outputs": [
    {
     "name": "stdout",
     "output_type": "stream",
     "text": [
      "[ 0.69088393 -0.91074289 -0.64824126  0.1844039   1.83685178  0.85108208\n",
      "  1.67779615  0.70758691  0.22568017 -0.99090019  1.09506742  1.19980111\n",
      "  0.11893625 -0.98796452  0.02521824 -0.88656889 -1.44507517 -1.64822676\n",
      "  0.48444318]\n",
      "\n",
      "[ 0.69088393 -0.91074289 -0.64824126  4.          4.          0.85108208\n",
      "  1.67779615  0.70758691  0.22568017 -0.99090019  1.09506742  1.19980111\n",
      "  0.11893625 -0.98796452  0.02521824 -0.88656889 -1.44507517 -1.64822676\n",
      "  0.48444318]\n",
      "\n",
      "[ 0.69088393 -0.91074289 -0.64824126  1.          2.          0.85108208\n",
      "  1.67779615  0.70758691  0.22568017 -0.99090019  1.09506742  1.19980111\n",
      "  0.11893625 -0.98796452  0.02521824 -0.88656889 -1.44507517 -1.64822676\n",
      "  0.48444318]\n"
     ]
    }
   ],
   "source": [
    "# let's change some values in an array!\n",
    "print(rand_vec)\n",
    "rand_vec[3:5] = 4\n",
    "print('')\n",
    "print(rand_vec)\n",
    "rand_vec[3:5] = [1,2]\n",
    "print('')\n",
    "print(rand_vec)"
   ]
  },
  {
   "cell_type": "code",
   "execution_count": 26,
   "metadata": {},
   "outputs": [
    {
     "name": "stdout",
     "output_type": "stream",
     "text": [
      "[[0.80339305 0.3443665  0.11965859 0.33054602 0.82775485]\n",
      " [0.80834343 0.91693695 0.60062788 0.82067113 0.74608966]\n",
      " [0.2556618  0.8373035  0.30890033 0.59713354 0.42069145]\n",
      " [0.86890498 0.28781749 0.49102024 0.38748334 0.40055826]\n",
      " [0.62741964 0.001983   0.75107944 0.26270882 0.30729093]]\n",
      "\n",
      "[[0.80339305 0.3443665  0.11965859 0.33054602 0.82775485]\n",
      " [0.80834343 0.91693695 0.60062788 0.         0.        ]\n",
      " [0.2556618  0.8373035  0.30890033 0.         0.        ]\n",
      " [0.86890498 0.28781749 0.49102024 0.38748334 0.40055826]\n",
      " [0.62741964 0.001983   0.75107944 0.26270882 0.30729093]]\n"
     ]
    }
   ],
   "source": [
    "print(rand_mat)\n",
    "rand_mat[1:3,3:5] = 0\n",
    "print('')\n",
    "print(rand_mat)"
   ]
  },
  {
   "cell_type": "code",
   "execution_count": 27,
   "metadata": {},
   "outputs": [
    {
     "name": "stdout",
     "output_type": "stream",
     "text": [
      "[[0.80339305 0.3443665  0.11965859]\n",
      " [0.80834343 0.91693695 0.60062788]]\n",
      "[[3. 3. 3.]\n",
      " [3. 3. 3.]]\n"
     ]
    }
   ],
   "source": [
    "sub_mat = rand_mat[0:2,0:3]\n",
    "print(sub_mat)\n",
    "sub_mat[:] = 3\n",
    "print(sub_mat)\n"
   ]
  },
  {
   "cell_type": "code",
   "execution_count": 28,
   "metadata": {},
   "outputs": [
    {
     "name": "stdout",
     "output_type": "stream",
     "text": [
      "[[3.00000000e+00 3.00000000e+00 3.00000000e+00 3.30546022e-01\n",
      "  8.27754853e-01]\n",
      " [3.00000000e+00 3.00000000e+00 3.00000000e+00 0.00000000e+00\n",
      "  0.00000000e+00]\n",
      " [2.55661796e-01 8.37303497e-01 3.08900327e-01 0.00000000e+00\n",
      "  0.00000000e+00]\n",
      " [8.68904979e-01 2.87817491e-01 4.91020244e-01 3.87483343e-01\n",
      "  4.00558262e-01]\n",
      " [6.27419642e-01 1.98299597e-03 7.51079437e-01 2.62708819e-01\n",
      "  3.07290931e-01]]\n"
     ]
    }
   ],
   "source": [
    "print(rand_mat)"
   ]
  },
  {
   "cell_type": "code",
   "execution_count": 29,
   "metadata": {},
   "outputs": [
    {
     "name": "stdout",
     "output_type": "stream",
     "text": [
      "[[99. 99. 99.]\n",
      " [99. 99. 99.]]\n",
      "[[3.00000000e+00 3.00000000e+00 3.00000000e+00 3.30546022e-01\n",
      "  8.27754853e-01]\n",
      " [3.00000000e+00 3.00000000e+00 3.00000000e+00 0.00000000e+00\n",
      "  0.00000000e+00]\n",
      " [2.55661796e-01 8.37303497e-01 3.08900327e-01 0.00000000e+00\n",
      "  0.00000000e+00]\n",
      " [8.68904979e-01 2.87817491e-01 4.91020244e-01 3.87483343e-01\n",
      "  4.00558262e-01]\n",
      " [6.27419642e-01 1.98299597e-03 7.51079437e-01 2.62708819e-01\n",
      "  3.07290931e-01]]\n"
     ]
    }
   ],
   "source": [
    "sub_mat2 = rand_mat[0:2,0:3].copy()\n",
    "sub_mat2[:] = 99\n",
    "print(sub_mat2)\n",
    "print(rand_mat)\n"
   ]
  },
  {
   "cell_type": "code",
   "execution_count": 30,
   "metadata": {},
   "outputs": [],
   "source": [
    "# break here for next video"
   ]
  },
  {
   "cell_type": "code",
   "execution_count": 31,
   "metadata": {},
   "outputs": [
    {
     "name": "stdout",
     "output_type": "stream",
     "text": [
      "[-0.02580978 -0.65264227  0.3159884   0.12564362  0.3108247   0.02179165\n",
      " -0.03539453  1.3715932   1.16580995  0.93177222 -0.79328243 -0.08405325\n",
      "  0.09915764  1.68621009  0.22454068]\n",
      "[False False  True  True  True  True False  True  True  True False False\n",
      "  True  True  True]\n",
      "[0.3159884  0.12564362 0.3108247  0.02179165 1.3715932  1.16580995\n",
      " 0.93177222 0.09915764 1.68621009 0.22454068]\n"
     ]
    }
   ],
   "source": [
    "# we can also access entries with logicals\n",
    "rand_vec = np.random.randn(15)\n",
    "\n",
    "print(rand_vec)\n",
    "print(rand_vec>0)\n",
    "print(rand_vec[rand_vec>0])"
   ]
  },
  {
   "cell_type": "code",
   "execution_count": 32,
   "metadata": {},
   "outputs": [
    {
     "name": "stdout",
     "output_type": "stream",
     "text": [
      "[[-1.18796881  1.60797976  0.19256138 -1.57018676  0.50343537]\n",
      " [-1.0667398   0.56265413 -0.31300196 -0.57157302  0.1766835 ]\n",
      " [-0.32788203  1.0849781  -0.39229512  0.69973449 -1.4552792 ]\n",
      " [ 0.76477971 -0.80579564 -0.0286173   0.38161299  0.82247905]\n",
      " [-1.55943906  0.23298095  1.34493272 -0.1844541  -1.30630419]\n",
      " [ 0.95266473 -0.79504166  0.04220883 -1.3930498  -1.40163327]\n",
      " [-1.51565257  1.29587529 -1.18711163 -1.51492776  2.24416861]\n",
      " [ 0.04427762  0.44446508  0.14172478  1.3246338   0.42332305]\n",
      " [-1.60205273 -0.13787747  0.78387438  0.82458148  0.40024539]\n",
      " [-0.08692325 -1.57381375 -0.90913917  0.91433228 -0.61311508]]\n",
      "[1.60797976 0.19256138 0.50343537 0.56265413 0.1766835  1.0849781\n",
      " 0.69973449 0.76477971 0.38161299 0.82247905 0.23298095 1.34493272\n",
      " 0.95266473 0.04220883 1.29587529 2.24416861 0.04427762 0.44446508\n",
      " 0.14172478 1.3246338  0.42332305 0.78387438 0.82458148 0.40024539\n",
      " 0.91433228]\n"
     ]
    }
   ],
   "source": [
    "print(rand_mat2)\n",
    "print(rand_mat2[rand_mat2>0])"
   ]
  },
  {
   "cell_type": "code",
   "execution_count": 33,
   "metadata": {},
   "outputs": [
    {
     "name": "stdout",
     "output_type": "stream",
     "text": [
      "[-0.02580978 -0.65264227  0.3159884   0.12564362  0.3108247   0.02179165\n",
      " -0.03539453  1.3715932   1.16580995  0.93177222 -0.79328243 -0.08405325\n",
      "  0.09915764  1.68621009  0.22454068]\n",
      "\n",
      "[-0.02580978 -0.65264227  0.3159884   0.12564362  0.3108247   0.02179165\n",
      " -0.03539453 -5.         -5.         -5.         -0.79328243 -0.08405325\n",
      "  0.09915764 -5.          0.22454068]\n"
     ]
    }
   ],
   "source": [
    "\n",
    "print(rand_vec)\n",
    "print('')\n",
    "rand_vec[rand_vec>0.5] = -5\n",
    "print(rand_vec)"
   ]
  },
  {
   "cell_type": "code",
   "execution_count": 34,
   "metadata": {},
   "outputs": [],
   "source": [
    "# let's save some arrays on the disk for use later!\n",
    "np.save('saved_file_name',rand_mat2)\n"
   ]
  },
  {
   "cell_type": "code",
   "execution_count": 35,
   "metadata": {},
   "outputs": [],
   "source": [
    "np.savez('zipped_file_name',rand_mat=rand_mat,rand_mat2=rand_mat2)"
   ]
  },
  {
   "cell_type": "code",
   "execution_count": 36,
   "metadata": {},
   "outputs": [
    {
     "name": "stdout",
     "output_type": "stream",
     "text": [
      "[[-1.18796881  1.60797976  0.19256138 -1.57018676  0.50343537]\n",
      " [-1.0667398   0.56265413 -0.31300196 -0.57157302  0.1766835 ]\n",
      " [-0.32788203  1.0849781  -0.39229512  0.69973449 -1.4552792 ]\n",
      " [ 0.76477971 -0.80579564 -0.0286173   0.38161299  0.82247905]\n",
      " [-1.55943906  0.23298095  1.34493272 -0.1844541  -1.30630419]\n",
      " [ 0.95266473 -0.79504166  0.04220883 -1.3930498  -1.40163327]\n",
      " [-1.51565257  1.29587529 -1.18711163 -1.51492776  2.24416861]\n",
      " [ 0.04427762  0.44446508  0.14172478  1.3246338   0.42332305]\n",
      " [-1.60205273 -0.13787747  0.78387438  0.82458148  0.40024539]\n",
      " [-0.08692325 -1.57381375 -0.90913917  0.91433228 -0.61311508]]\n",
      "\n",
      "<numpy.lib.npyio.NpzFile object at 0x1080f5e90>\n"
     ]
    }
   ],
   "source": [
    "# now let's load it\n",
    "loaded_vec = np.load('saved_file_name.npy')\n",
    "loaded_zip = np.load('zipped_file_name.npz')\n",
    "\n",
    "print(loaded_vec)\n",
    "print('')\n",
    "print(loaded_zip)"
   ]
  },
  {
   "cell_type": "code",
   "execution_count": 37,
   "metadata": {},
   "outputs": [
    {
     "name": "stdout",
     "output_type": "stream",
     "text": [
      "[[3.00000000e+00 3.00000000e+00 3.00000000e+00 3.30546022e-01\n",
      "  8.27754853e-01]\n",
      " [3.00000000e+00 3.00000000e+00 3.00000000e+00 0.00000000e+00\n",
      "  0.00000000e+00]\n",
      " [2.55661796e-01 8.37303497e-01 3.08900327e-01 0.00000000e+00\n",
      "  0.00000000e+00]\n",
      " [8.68904979e-01 2.87817491e-01 4.91020244e-01 3.87483343e-01\n",
      "  4.00558262e-01]\n",
      " [6.27419642e-01 1.98299597e-03 7.51079437e-01 2.62708819e-01\n",
      "  3.07290931e-01]]\n",
      "\n",
      "[[-1.18796881  1.60797976  0.19256138 -1.57018676  0.50343537]\n",
      " [-1.0667398   0.56265413 -0.31300196 -0.57157302  0.1766835 ]\n",
      " [-0.32788203  1.0849781  -0.39229512  0.69973449 -1.4552792 ]\n",
      " [ 0.76477971 -0.80579564 -0.0286173   0.38161299  0.82247905]\n",
      " [-1.55943906  0.23298095  1.34493272 -0.1844541  -1.30630419]\n",
      " [ 0.95266473 -0.79504166  0.04220883 -1.3930498  -1.40163327]\n",
      " [-1.51565257  1.29587529 -1.18711163 -1.51492776  2.24416861]\n",
      " [ 0.04427762  0.44446508  0.14172478  1.3246338   0.42332305]\n",
      " [-1.60205273 -0.13787747  0.78387438  0.82458148  0.40024539]\n",
      " [-0.08692325 -1.57381375 -0.90913917  0.91433228 -0.61311508]]\n",
      "[[3.00000000e+00 3.00000000e+00 3.00000000e+00 3.30546022e-01\n",
      "  8.27754853e-01]\n",
      " [3.00000000e+00 3.00000000e+00 3.00000000e+00 0.00000000e+00\n",
      "  0.00000000e+00]\n",
      " [2.55661796e-01 8.37303497e-01 3.08900327e-01 0.00000000e+00\n",
      "  0.00000000e+00]\n",
      " [8.68904979e-01 2.87817491e-01 4.91020244e-01 3.87483343e-01\n",
      "  4.00558262e-01]\n",
      " [6.27419642e-01 1.98299597e-03 7.51079437e-01 2.62708819e-01\n",
      "  3.07290931e-01]]\n"
     ]
    }
   ],
   "source": [
    "print(loaded_zip['rand_mat'])\n",
    "print('')\n",
    "print(loaded_zip['rand_mat2'])\n",
    "\n",
    "new_array  = loaded_zip['rand_mat']\n",
    "print(new_array)"
   ]
  },
  {
   "cell_type": "code",
   "execution_count": null,
   "metadata": {},
   "outputs": [],
   "source": [
    "# we can also save/load as text files...but only single variables\n",
    "np.savetxt('text_file_name.txt',rand_mat,delimiter=',')\n",
    "rand_mat_txt = np.loadtxt('text_file_name.txt',delimiter=',')\n",
    "print(rand_mat)\n",
    "print('')\n",
    "print(rand_mat_txt)"
   ]
  },
  {
   "cell_type": "code",
   "execution_count": null,
   "metadata": {},
   "outputs": [],
   "source": []
  }
 ],
 "metadata": {
  "kernelspec": {
   "display_name": "Python 3",
   "language": "python",
   "name": "python3"
  },
  "language_info": {
   "codemirror_mode": {
    "name": "ipython",
    "version": 3
   },
   "file_extension": ".py",
   "mimetype": "text/x-python",
   "name": "python",
   "nbconvert_exporter": "python",
   "pygments_lexer": "ipython3",
   "version": "3.7.7"
  }
 },
 "nbformat": 4,
 "nbformat_minor": 2
}
